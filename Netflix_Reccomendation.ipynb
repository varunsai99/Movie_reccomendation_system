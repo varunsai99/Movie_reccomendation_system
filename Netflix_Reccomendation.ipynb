{
  "nbformat": 4,
  "nbformat_minor": 0,
  "metadata": {
    "colab": {
      "name": "Netflix_Reccomendation.ipynb",
      "provenance": [],
      "collapsed_sections": []
    },
    "kernelspec": {
      "name": "python3",
      "display_name": "Python 3"
    },
    "language_info": {
      "name": "python"
    }
  },
  "cells": [
    {
      "cell_type": "code",
      "metadata": {
        "id": "nj6rmXNIBzQj"
      },
      "source": [
        "from datetime import datetime\n",
        "import pandas as pd\n",
        "import numpy as np\n",
        "\n",
        "import matplotlib.pyplot as plt\n",
        "\n",
        "import seaborn as sns\n",
        "sns.set_style('whitegrid')\n",
        "import os\n",
        "import scipy\n",
        "from scipy import sparse\n",
        "from scipy.sparse import csr_matrix\n",
        "import shutil\n",
        "from collections import Counter\n",
        "from sklearn.metrics.pairwise import cosine_similarity\n",
        "import random\n",
        "import pickle"
      ],
      "execution_count": null,
      "outputs": []
    },
    {
      "cell_type": "code",
      "metadata": {
        "id": "ijAmOSzsxrkS",
        "outputId": "70c17ed1-22c7-4938-ccec-26af46e51fa6"
      },
      "source": [
        "# Loading the whole data\n",
        "\n",
        "start = datetime.now()\n",
        "if not os.path.isfile('data.csv'):\n",
        "    data = open('data.csv', mode='w')\n",
        "    \n",
        "    row = list()\n",
        "    files=['data_folder/combined_data_1.txt','data_folder/combined_data_2.txt', \n",
        "           'data_folder/combined_data_3.txt', 'data_folder/combined_data_4.txt']\n",
        "    for file in files:\n",
        "        print(\"Reading ratings from {}...\".format(file))\n",
        "        with open(file) as f:\n",
        "            for line in f: \n",
        "                del row[:]\n",
        "                line = line.strip()\n",
        "                if line.endswith(':'):\n",
        "                    movie_id = line.replace(':', '')\n",
        "                else:\n",
        "                    row = [x for x in line.split(',')]\n",
        "                    row.insert(0, movie_id)\n",
        "                    data.write(','.join(row))\n",
        "                    data.write('\\n')\n",
        "        print(\"Done.\\n\")\n",
        "    data.close()\n",
        "print('Time taken :', datetime.now() - start)"
      ],
      "execution_count": null,
      "outputs": [
        {
          "output_type": "stream",
          "text": [
            "Reading ratings from data_folder/combined_data_1.txt...\n",
            "Done.\n",
            "\n",
            "Reading ratings from data_folder/combined_data_2.txt...\n",
            "Done.\n",
            "\n",
            "Reading ratings from data_folder/combined_data_3.txt...\n",
            "Done.\n",
            "\n",
            "Reading ratings from data_folder/combined_data_4.txt...\n",
            "Done.\n",
            "\n",
            "Time taken : 0:05:03.705966\n"
          ],
          "name": "stdout"
        }
      ]
    },
    {
      "cell_type": "code",
      "metadata": {
        "id": "Gq66viptxrlP",
        "outputId": "44fa5c2d-16e1-47e2-afda-cf485ec44d74"
      },
      "source": [
        "print(\"Total data \")\n",
        "print(\"-\"*50)\n",
        "print(\"\\nTotal no of ratings :\",df.shape[0])\n",
        "print(\"Total No of Users   :\", len(np.unique(df.user)))\n",
        "print(\"Total No of movies  :\", len(np.unique(df.movie)))"
      ],
      "execution_count": null,
      "outputs": [
        {
          "output_type": "stream",
          "text": [
            "Total data \n",
            "--------------------------------------------------\n",
            "\n",
            "Total no of ratings : 100480507\n",
            "Total No of Users   : 480189\n",
            "Total No of movies  : 17770\n"
          ],
          "name": "stdout"
        }
      ]
    },
    {
      "cell_type": "code",
      "metadata": {
        "id": "FBaGB5CUv_Gj",
        "colab": {
          "base_uri": "https://localhost:8080/"
        },
        "outputId": "15dd5b31-7e53-4710-83d8-27a023ea7f82"
      },
      "source": [
        "# Checking if there are any null values in the Dataset.\n",
        "sum(df.isnull().any())"
      ],
      "execution_count": null,
      "outputs": [
        {
          "output_type": "execute_result",
          "data": {
            "text/plain": [
              "0"
            ]
          },
          "metadata": {
            "tags": []
          },
          "execution_count": 64
        }
      ]
    },
    {
      "cell_type": "code",
      "metadata": {
        "colab": {
          "base_uri": "https://localhost:8080/"
        },
        "id": "aRYWCdApwH1n",
        "outputId": "d9636db5-2627-4129-8405-96e2dde95725"
      },
      "source": [
        "# Distribution of number of rating \n",
        "df.rating.value_counts()"
      ],
      "execution_count": null,
      "outputs": [
        {
          "output_type": "execute_result",
          "data": {
            "text/plain": [
              "4    33750958\n",
              "3    28811247\n",
              "5    23168232\n",
              "2    10132080\n",
              "1     4617990\n",
              "Name: rating, dtype: int64"
            ]
          },
          "metadata": {
            "tags": []
          },
          "execution_count": 66
        }
      ]
    },
    {
      "cell_type": "code",
      "metadata": {
        "id": "q4LOOzR9DOjM"
      },
      "source": [
        "# Storing this CSV as Parquet file as it is more optimized in storage.\n",
        "\n",
        "df = pd.read_csv(\"data.csv\",names=['movie', 'user','rating','date'])\n",
        "df.sort_values(by=\"date\",inplace=True)\n",
        "\n",
        "df.to_parquet(\"/content/drive/MyDrive/netflix_assignment/\")\n",
        "del df"
      ],
      "execution_count": null,
      "outputs": []
    },
    {
      "cell_type": "code",
      "metadata": {
        "id": "qfNuHLgrl2_5"
      },
      "source": [
        "df = pd.read_parquet(\"/content/drive/MyDrive/netflix_assignment/data.parquet\")"
      ],
      "execution_count": null,
      "outputs": []
    },
    {
      "cell_type": "code",
      "metadata": {
        "id": "Kar95wBPY4sB"
      },
      "source": [
        "if not os.path.isfile('/content/drive/MyDrive/netflix_assignment/train.csv'):\n",
        "    df.iloc[:int(df.shape[0]*0.80)].to_csv(\"/content/drive/MyDrive/netflix_assignment/train.csv\", index=False)\n",
        "\n",
        "if not os.path.isfile('/content/drive/MyDrive/netflix_assignment/test.csv'):\n",
        "    df.iloc[int(df.shape[0]*0.80):].to_csv(\"/content/drive/MyDrive/netflix_assignment/test.csv\", index=False)\n",
        "\n",
        "train_df = pd.read_csv(\"/content/drive/MyDrive/netflix_assignment/train.csv\", parse_dates=['date'])\n",
        "test_df = pd.read_csv(\"/content/drive/MyDrive/netflix_assignment/test.csv\")"
      ],
      "execution_count": null,
      "outputs": []
    },
    {
      "cell_type": "code",
      "metadata": {
        "colab": {
          "base_uri": "https://localhost:8080/"
        },
        "id": "uOGe1t6VAxAr",
        "outputId": "25149a54-3d47-4afb-d4b0-041ec36c3d0b"
      },
      "source": [
        "# Columns in the data.\n",
        "df.columns"
      ],
      "execution_count": null,
      "outputs": [
        {
          "output_type": "execute_result",
          "data": {
            "text/plain": [
              "Index(['movie', 'user', 'rating', 'date'], dtype='object')"
            ]
          },
          "metadata": {
            "tags": []
          },
          "execution_count": 6
        }
      ]
    },
    {
      "cell_type": "code",
      "metadata": {
        "colab": {
          "base_uri": "https://localhost:8080/"
        },
        "id": "gIhpSzP7AZ-n",
        "outputId": "638014bd-de4b-4627-d9f2-cc907918f0f6"
      },
      "source": [
        "print(\"Number of Unique Movies are\",len(np.unique(df[\"movie\"])))"
      ],
      "execution_count": null,
      "outputs": [
        {
          "output_type": "stream",
          "text": [
            "Number of Unique Movies are 17770\n"
          ],
          "name": "stdout"
        }
      ]
    },
    {
      "cell_type": "code",
      "metadata": {
        "colab": {
          "base_uri": "https://localhost:8080/"
        },
        "id": "pr8A5WVGAemi",
        "outputId": "034d95f2-82eb-45e1-addd-350edb97f083"
      },
      "source": [
        "print(\"Number of Unique users are\",len(np.unique(df[\"user\"])))"
      ],
      "execution_count": null,
      "outputs": [
        {
          "output_type": "stream",
          "text": [
            "Number of Unique users are 480189\n"
          ],
          "name": "stdout"
        }
      ]
    },
    {
      "cell_type": "markdown",
      "metadata": {
        "id": "htMUoGbHaTVq"
      },
      "source": [
        "# Splitting the data into train and test"
      ]
    },
    {
      "cell_type": "code",
      "metadata": {
        "scrolled": true,
        "id": "tj6TVYrRxrna",
        "colab": {
          "base_uri": "https://localhost:8080/"
        },
        "outputId": "b6d425ae-0ee6-4eb2-a045-c93b730298f5"
      },
      "source": [
        "start = datetime.now()\n",
        "if os.path.isfile('/content/drive/MyDrive/netflix_assignment/train_sparse_matrix.npz'):\n",
        "    print(\"It is present in your pwd, getting it from disk....\")\n",
        "    train_sparse_matrix = sparse.load_npz('/content/drive/MyDrive/netflix_assignment/train_sparse_matrix.npz')\n",
        "    print(\"DONE..\")\n",
        "else: \n",
        "    print(\"We are creating sparse_matrix from the dataframe..\")\n",
        "    train_sparse_matrix = sparse.csr_matrix((train_df.rating.values, (train_df.user.values,\n",
        "                                               train_df.movie.values)),)\n",
        "    \n",
        "    print('Done. It\\'s shape is : (user, movie) : ',train_sparse_matrix.shape)\n",
        "    print('Saving it into disk for furthur usage..')\n",
        "    # save it into disk\n",
        "    sparse.save_npz(\"/content/drive/MyDrive/netflix_assignment/train_sparse_matrix.npz\", train_sparse_matrix)\n",
        "    print('Done..\\n')\n",
        "\n",
        "print(datetime.now() - start)"
      ],
      "execution_count": null,
      "outputs": [
        {
          "output_type": "stream",
          "name": "stdout",
          "text": [
            "It is present in your pwd, getting it from disk....\n",
            "DONE..\n",
            "0:00:05.056241\n"
          ]
        }
      ]
    },
    {
      "cell_type": "code",
      "metadata": {
        "colab": {
          "base_uri": "https://localhost:8080/"
        },
        "id": "JnK0dww9ZhNK",
        "outputId": "5af1229c-d6e9-4981-bdee-1b3f971e2cc3"
      },
      "source": [
        "start = datetime.now()\n",
        "if os.path.isfile('/content/drive/MyDrive/netflix_assignment/test_sparse_matrix.npz'):\n",
        "    print(\"It is present in your pwd, getting it from disk....\")\n",
        "    test_sparse_matrix = sparse.load_npz('/content/drive/MyDrive/netflix_assignment/test_sparse_matrix.npz')\n",
        "    print(\"DONE..\")\n",
        "else: \n",
        "    print(\"We are creating sparse_matrix from the dataframe..\")\n",
        "    test_sparse_matrix = sparse.csr_matrix((test_df.rating.values, (test_df.user.values,\n",
        "                                               test_df.movie.values)))\n",
        "    \n",
        "    print('Done. It\\'s shape is : (user, movie) : ',test_sparse_matrix.shape)\n",
        "    print('Saving it into disk for furthur usage..')\n",
        "    sparse.save_npz(\"/content/drive/MyDrive/netflix_assignment/test_sparse_matrix.npz\", test_sparse_matrix)\n",
        "    print('Done..\\n')\n",
        "    \n",
        "print(datetime.now() - start)"
      ],
      "execution_count": null,
      "outputs": [
        {
          "output_type": "stream",
          "name": "stdout",
          "text": [
            "It is present in your pwd, getting it from disk....\n",
            "DONE..\n",
            "0:00:01.777971\n"
          ]
        }
      ]
    },
    {
      "cell_type": "code",
      "metadata": {
        "id": "qA2XA228qemm"
      },
      "source": [
        "# Loading Movie CSV file.\n",
        "movie_df = pd.read_csv(\"/content/drive/MyDrive/netflix_assignment/movie_titles.csv\", sep=',', header = None,\n",
        "                           names=['movie_id', 'year_of_release', 'title'],index_col = 'movie_id', encoding = \"ISO-8859-1\")"
      ],
      "execution_count": null,
      "outputs": []
    },
    {
      "cell_type": "code",
      "metadata": {
        "id": "vfR_GJh3HtcH"
      },
      "source": [
        "movie_counter = Counter(df.movie.values)\n",
        "\n",
        "if not os.path.isfile(\"/content/drive/MyDrive/netflix_assignment/sorted_movies.pickle\"):\n",
        "  sorted_movies = np.array(sorted(movie_counter.items(),key=lambda k:(k[1],k[0]),reverse=True))\n",
        "  with open('/content/drive/MyDrive/netflix_assignment/sorted_movies.pickle', 'wb') as handle:\n",
        "      pickle.dump(sorted_movies, handle, protocol=pickle.HIGHEST_PROTOCOL)\n",
        "\n",
        "else:\n",
        "  with open(\"/content/drive/MyDrive/netflix_assignment/sorted_movies.pickle\", 'rb') as handle:\n",
        "    sorted_movies = pickle.load(handle)"
      ],
      "execution_count": null,
      "outputs": []
    },
    {
      "cell_type": "code",
      "metadata": {
        "colab": {
          "base_uri": "https://localhost:8080/",
          "height": 355
        },
        "id": "c7T6Nv5H0q7G",
        "outputId": "06c6005d-7371-431d-df0c-f639db8b5e71"
      },
      "source": [
        "df.loc[sorted_movies[:10]]"
      ],
      "execution_count": null,
      "outputs": [
        {
          "output_type": "execute_result",
          "data": {
            "text/html": [
              "<div>\n",
              "<style scoped>\n",
              "    .dataframe tbody tr th:only-of-type {\n",
              "        vertical-align: middle;\n",
              "    }\n",
              "\n",
              "    .dataframe tbody tr th {\n",
              "        vertical-align: top;\n",
              "    }\n",
              "\n",
              "    .dataframe thead th {\n",
              "        text-align: right;\n",
              "    }\n",
              "</style>\n",
              "<table border=\"1\" class=\"dataframe\">\n",
              "  <thead>\n",
              "    <tr style=\"text-align: right;\">\n",
              "      <th></th>\n",
              "      <th>movie</th>\n",
              "      <th>user</th>\n",
              "      <th>rating</th>\n",
              "      <th>date</th>\n",
              "    </tr>\n",
              "  </thead>\n",
              "  <tbody>\n",
              "    <tr>\n",
              "      <th>5317</th>\n",
              "      <td>8</td>\n",
              "      <td>2636538</td>\n",
              "      <td>2</td>\n",
              "      <td>2005-05-04</td>\n",
              "    </tr>\n",
              "    <tr>\n",
              "      <th>15124</th>\n",
              "      <td>8</td>\n",
              "      <td>1753777</td>\n",
              "      <td>5</td>\n",
              "      <td>2005-03-26</td>\n",
              "    </tr>\n",
              "    <tr>\n",
              "      <th>14313</th>\n",
              "      <td>8</td>\n",
              "      <td>2585195</td>\n",
              "      <td>2</td>\n",
              "      <td>2005-11-24</td>\n",
              "    </tr>\n",
              "    <tr>\n",
              "      <th>15205</th>\n",
              "      <td>8</td>\n",
              "      <td>1400154</td>\n",
              "      <td>4</td>\n",
              "      <td>2005-07-12</td>\n",
              "    </tr>\n",
              "    <tr>\n",
              "      <th>1905</th>\n",
              "      <td>3</td>\n",
              "      <td>594683</td>\n",
              "      <td>5</td>\n",
              "      <td>2004-05-14</td>\n",
              "    </tr>\n",
              "    <tr>\n",
              "      <th>6287</th>\n",
              "      <td>8</td>\n",
              "      <td>2327422</td>\n",
              "      <td>2</td>\n",
              "      <td>2005-05-04</td>\n",
              "    </tr>\n",
              "    <tr>\n",
              "      <th>11283</th>\n",
              "      <td>8</td>\n",
              "      <td>593949</td>\n",
              "      <td>1</td>\n",
              "      <td>2005-05-08</td>\n",
              "    </tr>\n",
              "    <tr>\n",
              "      <th>16377</th>\n",
              "      <td>8</td>\n",
              "      <td>106217</td>\n",
              "      <td>3</td>\n",
              "      <td>2005-10-03</td>\n",
              "    </tr>\n",
              "    <tr>\n",
              "      <th>16242</th>\n",
              "      <td>8</td>\n",
              "      <td>579100</td>\n",
              "      <td>2</td>\n",
              "      <td>2005-07-20</td>\n",
              "    </tr>\n",
              "    <tr>\n",
              "      <th>12470</th>\n",
              "      <td>8</td>\n",
              "      <td>946179</td>\n",
              "      <td>5</td>\n",
              "      <td>2005-03-23</td>\n",
              "    </tr>\n",
              "  </tbody>\n",
              "</table>\n",
              "</div>"
            ],
            "text/plain": [
              "       movie     user  rating        date\n",
              "5317       8  2636538       2  2005-05-04\n",
              "15124      8  1753777       5  2005-03-26\n",
              "14313      8  2585195       2  2005-11-24\n",
              "15205      8  1400154       4  2005-07-12\n",
              "1905       3   594683       5  2004-05-14\n",
              "6287       8  2327422       2  2005-05-04\n",
              "11283      8   593949       1  2005-05-08\n",
              "16377      8   106217       3  2005-10-03\n",
              "16242      8   579100       2  2005-07-20\n",
              "12470      8   946179       5  2005-03-23"
            ]
          },
          "metadata": {
            "tags": []
          },
          "execution_count": 23
        }
      ]
    },
    {
      "cell_type": "markdown",
      "metadata": {
        "id": "buxIHGvrFS_4"
      },
      "source": [
        "**Calculating Movie-Movie Similariy**"
      ]
    },
    {
      "cell_type": "code",
      "metadata": {
        "id": "A4MhqtxU2JX1"
      },
      "source": [
        "# I am creating sparse matrix of size 480189*17770. As many values are zeros so we are using Sparse matrix representation.\n",
        "\n",
        "sparse_matrix = sparse.csr_matrix((df.rating.values, (df.user.values,df.movie.values)),)\n",
        "\n",
        "# Here I am calculating mean rating of every movie and saved it in new CSV file.\n",
        "movie_rating_dict = {}\n",
        "\n",
        "sum_list = sparse_matrix.sum(axis=0).A[0]\n",
        "movie_counter = Counter(df.movie.values)\n",
        "\n",
        "for i in range(1,sparse_matrix.shape[1]):\n",
        "  movie_rating_dict[i] = sum_list[i]/movie_counter[i]\n",
        "\n",
        "movie_df[\"Rating\"] = list(movie_rating_dict.values())\n",
        "movie_df.to_csv(\"/content/drive/MyDrive/netflix_assignment/Movies.csv\")"
      ],
      "execution_count": null,
      "outputs": []
    },
    {
      "cell_type": "code",
      "metadata": {
        "colab": {
          "base_uri": "https://localhost:8080/",
          "height": 237
        },
        "id": "a3iC2C74CCef",
        "outputId": "583952c4-8ddf-4049-aa71-2849539229a4"
      },
      "source": [
        "movie_df = pd.read_csv(\"/content/drive/MyDrive/netflix_assignment/Movies.csv\",index_col=[\"movie_id\"])\n",
        "movie_df.head()"
      ],
      "execution_count": null,
      "outputs": [
        {
          "output_type": "execute_result",
          "data": {
            "text/html": [
              "<div>\n",
              "<style scoped>\n",
              "    .dataframe tbody tr th:only-of-type {\n",
              "        vertical-align: middle;\n",
              "    }\n",
              "\n",
              "    .dataframe tbody tr th {\n",
              "        vertical-align: top;\n",
              "    }\n",
              "\n",
              "    .dataframe thead th {\n",
              "        text-align: right;\n",
              "    }\n",
              "</style>\n",
              "<table border=\"1\" class=\"dataframe\">\n",
              "  <thead>\n",
              "    <tr style=\"text-align: right;\">\n",
              "      <th></th>\n",
              "      <th>year_of_release</th>\n",
              "      <th>title</th>\n",
              "      <th>Rating</th>\n",
              "    </tr>\n",
              "    <tr>\n",
              "      <th>movie_id</th>\n",
              "      <th></th>\n",
              "      <th></th>\n",
              "      <th></th>\n",
              "    </tr>\n",
              "  </thead>\n",
              "  <tbody>\n",
              "    <tr>\n",
              "      <th>1</th>\n",
              "      <td>2003.0</td>\n",
              "      <td>Dinosaur Planet</td>\n",
              "      <td>3.749543</td>\n",
              "    </tr>\n",
              "    <tr>\n",
              "      <th>2</th>\n",
              "      <td>2004.0</td>\n",
              "      <td>Isle of Man TT 2004 Review</td>\n",
              "      <td>3.558621</td>\n",
              "    </tr>\n",
              "    <tr>\n",
              "      <th>3</th>\n",
              "      <td>1997.0</td>\n",
              "      <td>Character</td>\n",
              "      <td>3.641153</td>\n",
              "    </tr>\n",
              "    <tr>\n",
              "      <th>4</th>\n",
              "      <td>1994.0</td>\n",
              "      <td>Paula Abdul's Get Up &amp; Dance</td>\n",
              "      <td>2.739437</td>\n",
              "    </tr>\n",
              "    <tr>\n",
              "      <th>5</th>\n",
              "      <td>2004.0</td>\n",
              "      <td>The Rise and Fall of ECW</td>\n",
              "      <td>3.919298</td>\n",
              "    </tr>\n",
              "  </tbody>\n",
              "</table>\n",
              "</div>"
            ],
            "text/plain": [
              "          year_of_release                         title    Rating\n",
              "movie_id                                                         \n",
              "1                  2003.0               Dinosaur Planet  3.749543\n",
              "2                  2004.0    Isle of Man TT 2004 Review  3.558621\n",
              "3                  1997.0                     Character  3.641153\n",
              "4                  1994.0  Paula Abdul's Get Up & Dance  2.739437\n",
              "5                  2004.0      The Rise and Fall of ECW  3.919298"
            ]
          },
          "metadata": {
            "tags": []
          },
          "execution_count": 19
        }
      ]
    },
    {
      "cell_type": "code",
      "metadata": {
        "id": "ynAEabC1dkc_"
      },
      "source": [
        "if not os.path.isfile(\"/content/drive/MyDrive/netflix_assignment/m_m_sim_matrix.npz\"):\n",
        "  m_m_sim_sparse = cosine_similarity(X=sparse_matrix.T, dense_output=False)\n",
        "  scipy.sparse.save_npz(\"/content/drive/MyDrive/netflix_assignment/m_m_sim_matrix.npz\",m_m_sim_sparse)\n",
        "else:\n",
        "  m_m_sim_sparse = scipy.sparse.load_npz(\"/content/drive/MyDrive/netflix_assignment/m_m_sim_matrix.npz\")"
      ],
      "execution_count": null,
      "outputs": []
    },
    {
      "cell_type": "code",
      "metadata": {
        "id": "4Lo1DVtYlSl4"
      },
      "source": [
        "movie_idx_dict = {}   # Mapping of movie name to movie id\n",
        "idx_movie_dict = {}   # Mapping of movie id to movie name\n",
        "\n",
        "for idx,row in movie_df.iterrows():\n",
        "  movie_idx_dict[row[\"title\"]] = idx\n",
        "  idx_movie_dict[idx] = row[\"title\"]"
      ],
      "execution_count": null,
      "outputs": []
    },
    {
      "cell_type": "code",
      "metadata": {
        "id": "cImWSDX1oV9y"
      },
      "source": [
        "if not os.path.isfile(\"/content/drive/MyDrive/netflix_assignment/similar_movies.pickle\"):\n",
        "  # Storing top 50 similar movies based on cosine simialrity for every movie.\n",
        "  similar_movies = {}\n",
        "\n",
        "  for i in range(1,m_m_sim_sparse.shape[0]):\n",
        "    similar_movies[i] = m_m_sim_sparse[i].toarray()[0].argsort()[::-1][1:50]\n",
        "  with open('/content/drive/MyDrive/netflix_assignment/similar_movies.pickle', 'wb') as handle:\n",
        "      pickle.dump(similar_movies, handle, protocol=pickle.HIGHEST_PROTOCOL)\n",
        "\n",
        "else:\n",
        "  with open(\"/content/drive/MyDrive/netflix_assignment/similar_movies.pickle\", 'rb') as handle:\n",
        "    similar_movies = pickle.load(handle)"
      ],
      "execution_count": null,
      "outputs": []
    },
    {
      "cell_type": "code",
      "metadata": {
        "id": "0tNj4ZsRkJo3",
        "colab": {
          "base_uri": "https://localhost:8080/"
        },
        "outputId": "e78f8a2f-c9e0-4b26-bf92-8f1a93b1b3f5"
      },
      "source": [
        "# Testing if movie-movie based reccomendation is working or not\n",
        "i = 67\n",
        "print(movie_df.loc[i][\"title\"])\n",
        "print(\"Reccomended Movies\")\n",
        "list(movie_df.loc[similar_movies[i][:20]][\"title\"])"
      ],
      "execution_count": null,
      "outputs": [
        {
          "output_type": "stream",
          "text": [
            "Vampire Journals\n",
            "Reccomended Movies\n"
          ],
          "name": "stdout"
        },
        {
          "output_type": "execute_result",
          "data": {
            "text/plain": [
              "['Modern Vampires',\n",
              " 'Subspecies 4: Bloodstorm',\n",
              " 'To Sleep With a Vampire',\n",
              " 'Dracula: The Dark Prince',\n",
              " 'Dracula Rising',\n",
              " 'Vampires: Los Muertos',\n",
              " 'Vampirella',\n",
              " 'Club Vampire',\n",
              " 'The Breed',\n",
              " 'Dracula II: Ascension',\n",
              " 'Scars of Dracula',\n",
              " 'Kindred: The Embraced: The Complete Vampire Collection',\n",
              " 'Innocent Blood',\n",
              " 'She Creature',\n",
              " 'Blood Moon',\n",
              " 'Earth vs. The Spider',\n",
              " 'Captain Kronos: Vampire Hunter',\n",
              " 'Reign in Darkness',\n",
              " 'The Locals',\n",
              " 'The Shiver of the Vampires']"
            ]
          },
          "metadata": {
            "tags": []
          },
          "execution_count": 22
        }
      ]
    },
    {
      "cell_type": "markdown",
      "metadata": {
        "id": "N377HXMTLMMR"
      },
      "source": [
        "**Calculating User-User similarities.**"
      ]
    },
    {
      "cell_type": "code",
      "metadata": {
        "id": "5pIpTLlMzNqT"
      },
      "source": [
        "def get_average_ratings(sparse_matrix, of_users):\n",
        "  ax = 1 if of_users else 0  # 1 - User axes,0 - Movie axes\n",
        "  sum_of_ratings = sparse_matrix.sum(axis=ax).A1\n",
        "  is_rated = sparse_matrix!=0\n",
        "\n",
        "  # no of ratings that each user OR movie..\n",
        "  no_of_ratings = is_rated.sum(axis=ax).A1\n",
        "  u,m = sparse_matrix.shape\n",
        "  # creae a dictonary of users and their average ratigns..\n",
        "  average_ratings = { i : sum_of_ratings[i]/no_of_ratings[i] for i in range(u if of_users else m) if no_of_ratings[i] !=0 }\n",
        "  # return that dictionary of average ratings\n",
        "  return average_ratings"
      ],
      "execution_count": null,
      "outputs": []
    },
    {
      "cell_type": "code",
      "metadata": {
        "id": "UXD1vNbyXIjR"
      },
      "source": [
        "def get_sample_sparse_matrix(sparse_matrix, no_users, no_movies, path):\n",
        "    row_ind, col_ind, ratings = sparse.find(sparse_matrix)\n",
        "    users = np.unique(row_ind)\n",
        "    movies = np.unique(col_ind)\n",
        "\n",
        "    print(\"Original Matrix : (users, movies) -- ({} {})\".format(len(users), len(movies)))\n",
        "    print(\"Original Matrix : Ratings -- {}\\n\".format(len(ratings)))\n",
        "\n",
        "    np.random.seed(15)\n",
        "    sample_users = np.random.choice(users, no_users, replace=False)\n",
        "    sample_movies = np.random.choice(movies, no_movies, replace=False)\n",
        "    # get the boolean mask or these sampled_items in originl row/col_inds..\n",
        "    mask = np.logical_and( np.isin(row_ind, sample_users),\n",
        "                      np.isin(col_ind, sample_movies) )\n",
        "    \n",
        "    sample_sparse_matrix = sparse.csr_matrix((ratings[mask], (row_ind[mask], col_ind[mask])),\n",
        "                                             shape=(max(sample_users)+1, max(sample_movies)+1))\n",
        "\n",
        "    print('Saving it into disk for furthur usage..')\n",
        "    # save it into disk\n",
        "    sparse.save_npz(path, sample_sparse_matrix)\n",
        "    return sample_sparse_matrix"
      ],
      "execution_count": null,
      "outputs": []
    },
    {
      "cell_type": "code",
      "metadata": {
        "colab": {
          "base_uri": "https://localhost:8080/"
        },
        "id": "p-3RCRWIXeXk",
        "outputId": "40d427b4-737e-46c3-8fd7-5500a867cb6f"
      },
      "source": [
        "start = datetime.now()\n",
        "path = \"/content/drive/MyDrive/netflix_assignment/sample_train_sparse_matrix.npz\"\n",
        "\n",
        "if os.path.isfile(path):\n",
        "    print(\"It is present in your pwd, getting it from disk....\")\n",
        "    sample_train_sparse_matrix = sparse.load_npz(path)\n",
        "    print(\"DONE..\")\n",
        "else: \n",
        "    # get 10k users and 1k movies from available data \n",
        "    sample_train_sparse_matrix = get_sample_sparse_matrix(train_sparse_matrix, no_users=10000, no_movies=1000,path = path)\n",
        "\n",
        "print(datetime.now() - start)"
      ],
      "execution_count": null,
      "outputs": [
        {
          "output_type": "stream",
          "name": "stdout",
          "text": [
            "It is present in your pwd, getting it from disk....\n",
            "DONE..\n",
            "0:00:00.215923\n"
          ]
        }
      ]
    },
    {
      "cell_type": "code",
      "metadata": {
        "colab": {
          "base_uri": "https://localhost:8080/"
        },
        "id": "T4eFhObjXeUs",
        "outputId": "1dbbc053-9505-4a1f-e694-2dbb8394460c"
      },
      "source": [
        "start = datetime.now()\n",
        "path = \"/content/drive/MyDrive/netflix_assignment/sample_test_sparse_matrix.npz\"\n",
        "\n",
        "if os.path.isfile(path):\n",
        "    print(\"It is present in your pwd, getting it from disk....\")\n",
        "    sample_test_sparse_matrix = sparse.load_npz(path)\n",
        "    print(\"DONE..\")\n",
        "else:\n",
        "    # get 5k users and 500 movies from available data \n",
        "    sample_test_sparse_matrix = get_sample_sparse_matrix(test_sparse_matrix, no_users=5000, no_movies=500,path = path)\n",
        "\n",
        "print(datetime.now() - start)"
      ],
      "execution_count": null,
      "outputs": [
        {
          "output_type": "stream",
          "name": "stdout",
          "text": [
            "It is present in your pwd, getting it from disk....\n",
            "DONE..\n",
            "0:00:00.195653\n"
          ]
        }
      ]
    },
    {
      "cell_type": "code",
      "metadata": {
        "id": "eJN92jujxrqQ",
        "colab": {
          "base_uri": "https://localhost:8080/"
        },
        "outputId": "e1e30a73-cc24-47af-9f32-acc3eecb51d6"
      },
      "source": [
        "# get the global average of ratings in our train set.\n",
        "sample_train_averages = dict()\n",
        "global_average = sample_train_sparse_matrix.sum()/sample_train_sparse_matrix.count_nonzero()\n",
        "sample_train_averages['global'] = global_average\n",
        "sample_train_averages"
      ],
      "execution_count": null,
      "outputs": [
        {
          "output_type": "execute_result",
          "data": {
            "text/plain": [
              "{'global': 3.581679377504138}"
            ]
          },
          "metadata": {},
          "execution_count": 62
        }
      ]
    },
    {
      "cell_type": "code",
      "metadata": {
        "scrolled": true,
        "id": "iLBPu2ObxrqT",
        "colab": {
          "base_uri": "https://localhost:8080/"
        },
        "outputId": "4fc8f8c8-3ac9-4fb8-ba19-9d6a0e8dc818"
      },
      "source": [
        "sample_train_averages['user'] = get_average_ratings(sample_train_sparse_matrix, of_users=True)\n",
        "print('Average rating of user 1515220 :',sample_train_averages['user'][1515220])"
      ],
      "execution_count": null,
      "outputs": [
        {
          "output_type": "stream",
          "name": "stdout",
          "text": [
            "Average rating of user 1515220 : 3.9655172413793105\n"
          ]
        }
      ]
    },
    {
      "cell_type": "code",
      "metadata": {
        "colab": {
          "base_uri": "https://localhost:8080/"
        },
        "id": "D3LYn35SdBHp",
        "outputId": "f4e4e3e2-8275-463d-f50b-e78f1fe3aa92"
      },
      "source": [
        "sample_train_averages['movie'] =  get_average_ratings(sample_train_sparse_matrix, of_users=False)\n",
        "print('Average rating of movie 15153 :',sample_train_averages['movie'][15153])"
      ],
      "execution_count": null,
      "outputs": [
        {
          "output_type": "stream",
          "name": "stdout",
          "text": [
            "Average rating of movie 15153 : 2.6458333333333335\n"
          ]
        }
      ]
    },
    {
      "cell_type": "code",
      "metadata": {
        "colab": {
          "base_uri": "https://localhost:8080/"
        },
        "id": "rzIFrbFMdMIM",
        "outputId": "e255f63e-a9b4-499e-802a-902dc3793556"
      },
      "source": [
        "print('No of ratings in Our Sampled train matrix is : {}\\n'.format(sample_train_sparse_matrix.count_nonzero()))\n",
        "print('No of ratings in Our Sampled test  matrix is : {}\\n'.format(sample_test_sparse_matrix.count_nonzero()))"
      ],
      "execution_count": null,
      "outputs": [
        {
          "output_type": "stream",
          "name": "stdout",
          "text": [
            "No of ratings in Our Sampled train matrix is : 129286\n",
            "\n",
            "No of ratings in Our Sampled test  matrix is : 7333\n",
            "\n"
          ]
        }
      ]
    },
    {
      "cell_type": "code",
      "metadata": {
        "scrolled": true,
        "id": "Hr_gXr0ixrqh",
        "colab": {
          "base_uri": "https://localhost:8080/"
        },
        "outputId": "27241f69-06cc-4257-f5d6-3921740a7d5d"
      },
      "source": [
        "start = datetime.now()\n",
        "\n",
        "# get users, movies and ratings from our samples train sparse matrix\n",
        "sample_train_users, sample_train_movies, sample_train_ratings = sparse.find(sample_train_sparse_matrix)\n",
        "\n",
        "if os.path.isfile('/content/drive/MyDrive/netflix_assignment/reg_train.csv'):\n",
        "    print(\"File already exists you don't have to prepare again...\" )\n",
        "else:\n",
        "    print('preparing {} tuples for the dataset..\\n'.format(len(sample_train_ratings)))\n",
        "    with open('/content/drive/MyDrive/netflix_assignment/reg_train.csv', mode='w') as reg_data_file:\n",
        "        count = 0\n",
        "        for (user, movie, rating)  in zip(sample_train_users, sample_train_movies, sample_train_ratings):\n",
        "            st = datetime.now()\n",
        "            #--------------------- Ratings of \"movie\" by similar users of \"user\" ---------------------\n",
        "            \n",
        "            user_sim = cosine_similarity(sample_train_sparse_matrix[user], sample_train_sparse_matrix).ravel()\n",
        "            top_sim_users = user_sim.argsort()[::-1][1:20] \n",
        "            # get the ratings of most similar users for this movie\n",
        "            top_ratings = sample_train_sparse_matrix[top_sim_users, movie].toarray().ravel()\n",
        "            # we will make it's length \"5\" by adding movie averages to .\n",
        "            top_sim_users_ratings = list(top_ratings[top_ratings != 0][:5])\n",
        "            top_sim_users_ratings.extend([sample_train_averages['movie'][movie]]*(5 - len(top_sim_users_ratings)))\n",
        "\n",
        "            #--------------------- Ratings by \"user\" to similar movies of \"movie\" ---------------------\n",
        "\n",
        "            movie_sim = cosine_similarity(sample_train_sparse_matrix[:,movie].T, sample_train_sparse_matrix.T).ravel()\n",
        "            top_sim_movies = movie_sim.argsort()[::-1][1:20] # we are ignoring 'The User' from its similar users.\n",
        "            # get the ratings of most similar movie rated by this user..\n",
        "            top_ratings = sample_train_sparse_matrix[user, top_sim_movies].toarray().ravel()\n",
        "            # we will make it's length \"5\" by adding user averages to.\n",
        "            top_sim_movies_ratings = list(top_ratings[top_ratings != 0][:5])\n",
        "            top_sim_movies_ratings.extend([sample_train_averages['user'][user]]*(5-len(top_sim_movies_ratings)))\n",
        "\n",
        "            #-----------------prepare the row to be stores in a file-----------------#\n",
        "            row = list()\n",
        "            row.append(user)\n",
        "            row.append(movie)\n",
        "            # Now add the other features to this data...\n",
        "            row.append(sample_train_averages['global']) # first feature\n",
        "            # next 5 features are similar_users \"movie\" ratings\n",
        "            row.extend(top_sim_users_ratings)\n",
        "            # next 5 features are \"user\" ratings for similar_movies\n",
        "            row.extend(top_sim_movies_ratings)\n",
        "            # Avg_user rating\n",
        "            row.append(sample_train_averages['user'][user])\n",
        "            # Avg_movie rating\n",
        "            row.append(sample_train_averages['movie'][movie])\n",
        "\n",
        "            # finalley, The actual Rating of this user-movie pair...\n",
        "            row.append(rating)\n",
        "            count = count + 1\n",
        "\n",
        "            # add rows to the file opened..\n",
        "            reg_data_file.write(','.join(map(str, row)))\n",
        "            reg_data_file.write('\\n')        \n",
        "            if (count)%10000 == 0:\n",
        "                # print(','.join(map(str, row)))\n",
        "                print(\"Done for {} rows----- {}\".format(count, datetime.now() - start))\n",
        "\n",
        "\n",
        "print(datetime.now() - start)"
      ],
      "execution_count": null,
      "outputs": [
        {
          "output_type": "stream",
          "name": "stdout",
          "text": [
            "File already exists you don't have to prepare again...\n",
            "0:00:00.019317\n"
          ]
        }
      ]
    },
    {
      "cell_type": "code",
      "metadata": {
        "id": "oUs6s6AZxrqj",
        "colab": {
          "base_uri": "https://localhost:8080/",
          "height": 206
        },
        "outputId": "d209eb43-50dc-46b5-e44b-390792f260e0"
      },
      "source": [
        "reg_train = pd.read_csv('/content/drive/MyDrive/netflix_assignment/reg_train.csv', names = ['user', 'movie', 'GAvg', 'sur1', 'sur2', 'sur3', 'sur4', 'sur5','smr1', 'smr2', 'smr3', 'smr4', 'smr5', 'UAvg', 'MAvg', 'rating'], header=None)\n",
        "reg_train.head()"
      ],
      "execution_count": null,
      "outputs": [
        {
          "output_type": "execute_result",
          "data": {
            "text/html": [
              "<div>\n",
              "<style scoped>\n",
              "    .dataframe tbody tr th:only-of-type {\n",
              "        vertical-align: middle;\n",
              "    }\n",
              "\n",
              "    .dataframe tbody tr th {\n",
              "        vertical-align: top;\n",
              "    }\n",
              "\n",
              "    .dataframe thead th {\n",
              "        text-align: right;\n",
              "    }\n",
              "</style>\n",
              "<table border=\"1\" class=\"dataframe\">\n",
              "  <thead>\n",
              "    <tr style=\"text-align: right;\">\n",
              "      <th></th>\n",
              "      <th>user</th>\n",
              "      <th>movie</th>\n",
              "      <th>GAvg</th>\n",
              "      <th>sur1</th>\n",
              "      <th>sur2</th>\n",
              "      <th>sur3</th>\n",
              "      <th>sur4</th>\n",
              "      <th>sur5</th>\n",
              "      <th>smr1</th>\n",
              "      <th>smr2</th>\n",
              "      <th>smr3</th>\n",
              "      <th>smr4</th>\n",
              "      <th>smr5</th>\n",
              "      <th>UAvg</th>\n",
              "      <th>MAvg</th>\n",
              "      <th>rating</th>\n",
              "    </tr>\n",
              "  </thead>\n",
              "  <tbody>\n",
              "    <tr>\n",
              "      <th>0</th>\n",
              "      <td>53406</td>\n",
              "      <td>33</td>\n",
              "      <td>3.581679</td>\n",
              "      <td>4.0</td>\n",
              "      <td>5.0</td>\n",
              "      <td>5.0</td>\n",
              "      <td>4.0</td>\n",
              "      <td>1.0</td>\n",
              "      <td>5.0</td>\n",
              "      <td>2.0</td>\n",
              "      <td>5.0</td>\n",
              "      <td>3.0</td>\n",
              "      <td>1.0</td>\n",
              "      <td>3.370370</td>\n",
              "      <td>4.092437</td>\n",
              "      <td>4</td>\n",
              "    </tr>\n",
              "    <tr>\n",
              "      <th>1</th>\n",
              "      <td>99540</td>\n",
              "      <td>33</td>\n",
              "      <td>3.581679</td>\n",
              "      <td>5.0</td>\n",
              "      <td>5.0</td>\n",
              "      <td>5.0</td>\n",
              "      <td>4.0</td>\n",
              "      <td>5.0</td>\n",
              "      <td>3.0</td>\n",
              "      <td>4.0</td>\n",
              "      <td>4.0</td>\n",
              "      <td>3.0</td>\n",
              "      <td>5.0</td>\n",
              "      <td>3.555556</td>\n",
              "      <td>4.092437</td>\n",
              "      <td>3</td>\n",
              "    </tr>\n",
              "    <tr>\n",
              "      <th>2</th>\n",
              "      <td>99865</td>\n",
              "      <td>33</td>\n",
              "      <td>3.581679</td>\n",
              "      <td>5.0</td>\n",
              "      <td>5.0</td>\n",
              "      <td>4.0</td>\n",
              "      <td>5.0</td>\n",
              "      <td>3.0</td>\n",
              "      <td>5.0</td>\n",
              "      <td>4.0</td>\n",
              "      <td>4.0</td>\n",
              "      <td>5.0</td>\n",
              "      <td>4.0</td>\n",
              "      <td>3.714286</td>\n",
              "      <td>4.092437</td>\n",
              "      <td>5</td>\n",
              "    </tr>\n",
              "    <tr>\n",
              "      <th>3</th>\n",
              "      <td>101620</td>\n",
              "      <td>33</td>\n",
              "      <td>3.581679</td>\n",
              "      <td>2.0</td>\n",
              "      <td>3.0</td>\n",
              "      <td>5.0</td>\n",
              "      <td>5.0</td>\n",
              "      <td>4.0</td>\n",
              "      <td>4.0</td>\n",
              "      <td>3.0</td>\n",
              "      <td>3.0</td>\n",
              "      <td>4.0</td>\n",
              "      <td>5.0</td>\n",
              "      <td>3.584416</td>\n",
              "      <td>4.092437</td>\n",
              "      <td>5</td>\n",
              "    </tr>\n",
              "    <tr>\n",
              "      <th>4</th>\n",
              "      <td>112974</td>\n",
              "      <td>33</td>\n",
              "      <td>3.581679</td>\n",
              "      <td>5.0</td>\n",
              "      <td>5.0</td>\n",
              "      <td>5.0</td>\n",
              "      <td>5.0</td>\n",
              "      <td>5.0</td>\n",
              "      <td>3.0</td>\n",
              "      <td>5.0</td>\n",
              "      <td>5.0</td>\n",
              "      <td>5.0</td>\n",
              "      <td>3.0</td>\n",
              "      <td>3.750000</td>\n",
              "      <td>4.092437</td>\n",
              "      <td>5</td>\n",
              "    </tr>\n",
              "  </tbody>\n",
              "</table>\n",
              "</div>"
            ],
            "text/plain": [
              "     user  movie      GAvg  sur1  sur2  ...  smr4  smr5      UAvg      MAvg  rating\n",
              "0   53406     33  3.581679   4.0   5.0  ...   3.0   1.0  3.370370  4.092437       4\n",
              "1   99540     33  3.581679   5.0   5.0  ...   3.0   5.0  3.555556  4.092437       3\n",
              "2   99865     33  3.581679   5.0   5.0  ...   5.0   4.0  3.714286  4.092437       5\n",
              "3  101620     33  3.581679   2.0   3.0  ...   4.0   5.0  3.584416  4.092437       5\n",
              "4  112974     33  3.581679   5.0   5.0  ...   5.0   3.0  3.750000  4.092437       5\n",
              "\n",
              "[5 rows x 16 columns]"
            ]
          },
          "metadata": {},
          "execution_count": 67
        }
      ]
    },
    {
      "cell_type": "code",
      "metadata": {
        "id": "M2QBhCcMxrqm"
      },
      "source": [
        "# get users, movies and ratings from the Sampled Test \n",
        "sample_test_users, sample_test_movies, sample_test_ratings = sparse.find(sample_test_sparse_matrix)"
      ],
      "execution_count": null,
      "outputs": []
    },
    {
      "cell_type": "code",
      "metadata": {
        "id": "Nq65GRUHPFmF"
      },
      "source": [
        "total_users = np.unique(np.concatenate((sample_test_users,sample_train_users)))\n",
        "total_movies = np.unique(np.concatenate((sample_test_movies,sample_train_movies)))"
      ],
      "execution_count": null,
      "outputs": []
    },
    {
      "cell_type": "code",
      "metadata": {
        "id": "Nz1hAyn4OcOH"
      },
      "source": [
        "import csv \n",
        "if not os.path.isfile('/content/drive/MyDrive/netflix_assignment/sample_movies.csv'):\n",
        "  with open('/content/drive/MyDrive/netflix_assignment/sample_movies.csv', mode='w') as data_file:\n",
        "      data_file.write(\"Movie_id\")\n",
        "      data_file.write('\\n')\n",
        "      for movie_id in total_movies:\n",
        "        data_file.write(str(movie_id))\n",
        "        data_file.write('\\n')\n",
        "if not os.path.isfile('/content/drive/MyDrive/netflix_assignment/sample_users.csv'):\n",
        "  with open('/content/drive/MyDrive/netflix_assignment/sample_users.csv', mode='w') as data_file:\n",
        "      data_file.write(\"User_id\")\n",
        "      data_file.write('\\n')\n",
        "      for user_id in total_users:\n",
        "        data_file.write(str(user_id))\n",
        "        data_file.write('\\n')"
      ],
      "execution_count": null,
      "outputs": []
    },
    {
      "cell_type": "code",
      "metadata": {
        "id": "pGnJ3YDg3fkm"
      },
      "source": [
        "import pandas as pd\n",
        "import numpy as np\n",
        "movie_list = pd.read_csv('/content/drive/MyDrive/netflix_assignment/sample_movies.csv')\n",
        "movie_list = np.array(movie_list.iloc[:,0])"
      ],
      "execution_count": null,
      "outputs": []
    },
    {
      "cell_type": "code",
      "metadata": {
        "id": "CLVejZA3xrqs",
        "colab": {
          "base_uri": "https://localhost:8080/"
        },
        "outputId": "5e19755e-3601-4ed9-c986-ab395743d4ee"
      },
      "source": [
        "start = datetime.now()\n",
        "\n",
        "if os.path.isfile('/content/drive/MyDrive/netflix_assignment/reg_test.csv'):\n",
        "    print(\"It is already created...\")\n",
        "else:\n",
        "    print('preparing {} tuples for the dataset..\\n'.format(len(sample_test_ratings)))\n",
        "    with open('/content/drive/MyDrive/netflix_assignment/reg_test.csv', mode='w') as reg_data_file:\n",
        "        count = 0 \n",
        "        for (user, movie, rating)  in zip(sample_test_users, sample_test_movies, sample_test_ratings):\n",
        "            st = datetime.now()\n",
        "        #--------------------- Ratings of \"movie\" by similar users of \"user\" ---------------------\n",
        "            try:   \n",
        "                user_sim = cosine_similarity(sample_train_sparse_matrix[user], sample_train_sparse_matrix).ravel()\n",
        "                top_sim_users = user_sim.argsort()[::-1][1:20] \n",
        "                top_ratings = sample_train_sparse_matrix[top_sim_users, movie].toarray().ravel()\n",
        "                top_sim_users_ratings = list(top_ratings[top_ratings != 0][:5])\n",
        "                top_sim_users_ratings.extend([sample_train_averages['movie'][movie]]*(5 - len(top_sim_users_ratings)))\n",
        "\n",
        "            except (IndexError, KeyError):\n",
        "                # It is a new User or new Movie or there are no ratings for given user for top similar movies...\n",
        "                # Cold STart Problem #\n",
        "                top_sim_users_ratings.extend([sample_train_averages['global']]*(5 - len(top_sim_users_ratings)))\n",
        "\n",
        "            #--------------------- Ratings by \"user\"  to similar movies of \"movie\" ---------------------\n",
        "            try: \n",
        "                movie_sim = cosine_similarity(sample_train_sparse_matrix[:,movie].T, sample_train_sparse_matrix.T).ravel()\n",
        "                top_sim_movies = movie_sim.argsort()[::-1][1:] \n",
        "                top_ratings = sample_train_sparse_matrix[user, top_sim_movies].toarray().ravel()\n",
        "                top_sim_movies_ratings = list(top_ratings[top_ratings != 0][:5])\n",
        "                top_sim_movies_ratings.extend([sample_train_averages['user'][user]]*(5-len(top_sim_movies_ratings))) \n",
        "                \n",
        "            except (IndexError, KeyError):\n",
        "                top_sim_movies_ratings.extend([sample_train_averages['global']]*(5-len(top_sim_movies_ratings)))\n",
        "\n",
        "            #-----------------prepare the row to be stores in a file-----------------#\n",
        "            row = list()\n",
        "            # add usser and movie name first\n",
        "            row.append(user)\n",
        "            row.append(movie)\n",
        "            row.append(sample_train_averages['global']) # first feature\n",
        "            #print(row)\n",
        "            # next 5 features are similar_users \"movie\" ratings\n",
        "            row.extend(top_sim_users_ratings)\n",
        "            #print(row)\n",
        "            # next 5 features are \"user\" ratings for similar_movies\n",
        "            row.extend(top_sim_movies_ratings)\n",
        "            #print(row)\n",
        "            # Avg_user rating\n",
        "            try:\n",
        "                row.append(sample_train_averages['user'][user])\n",
        "            except KeyError:\n",
        "                row.append(sample_train_averages['global'])\n",
        "\n",
        "            # Avg_movie rating\n",
        "            try:\n",
        "                row.append(sample_train_averages['movie'][movie])\n",
        "            except KeyError:\n",
        "                row.append(sample_train_averages['global'])\n",
        "\n",
        "            row.append(rating)\n",
        "            count = count + 1\n",
        "\n",
        "            # add rows to the file opened..\n",
        "            reg_data_file.write(','.join(map(str, row)))\n",
        "            reg_data_file.write('\\n')        \n",
        "            if (count)%1000 == 0:\n",
        "                print(\"Done for {} rows----- {}\".format(count, datetime.now() - start))\n",
        "    print(\"\",datetime.now() - start)  "
      ],
      "execution_count": null,
      "outputs": [
        {
          "output_type": "stream",
          "name": "stdout",
          "text": [
            "It is already created...\n"
          ]
        }
      ]
    },
    {
      "cell_type": "code",
      "metadata": {
        "id": "7mhv5Rztxrqv",
        "colab": {
          "base_uri": "https://localhost:8080/",
          "height": 175
        },
        "outputId": "da3d013e-39e3-433b-bcca-fda022b32270"
      },
      "source": [
        "reg_test_df = pd.read_csv('/content/drive/MyDrive/netflix_assignment/reg_test.csv', names = ['user', 'movie', 'GAvg', 'sur1', 'sur2', 'sur3', 'sur4', 'sur5',\n",
        "                                                          'smr1', 'smr2', 'smr3', 'smr4', 'smr5',\n",
        "                                                          'UAvg', 'MAvg', 'rating'], header=None)\n",
        "reg_test_df.head(4)"
      ],
      "execution_count": null,
      "outputs": [
        {
          "output_type": "execute_result",
          "data": {
            "text/html": [
              "<div>\n",
              "<style scoped>\n",
              "    .dataframe tbody tr th:only-of-type {\n",
              "        vertical-align: middle;\n",
              "    }\n",
              "\n",
              "    .dataframe tbody tr th {\n",
              "        vertical-align: top;\n",
              "    }\n",
              "\n",
              "    .dataframe thead th {\n",
              "        text-align: right;\n",
              "    }\n",
              "</style>\n",
              "<table border=\"1\" class=\"dataframe\">\n",
              "  <thead>\n",
              "    <tr style=\"text-align: right;\">\n",
              "      <th></th>\n",
              "      <th>user</th>\n",
              "      <th>movie</th>\n",
              "      <th>GAvg</th>\n",
              "      <th>sur1</th>\n",
              "      <th>sur2</th>\n",
              "      <th>sur3</th>\n",
              "      <th>sur4</th>\n",
              "      <th>sur5</th>\n",
              "      <th>smr1</th>\n",
              "      <th>smr2</th>\n",
              "      <th>smr3</th>\n",
              "      <th>smr4</th>\n",
              "      <th>smr5</th>\n",
              "      <th>UAvg</th>\n",
              "      <th>MAvg</th>\n",
              "      <th>rating</th>\n",
              "    </tr>\n",
              "  </thead>\n",
              "  <tbody>\n",
              "    <tr>\n",
              "      <th>0</th>\n",
              "      <td>808635</td>\n",
              "      <td>71</td>\n",
              "      <td>3.581679</td>\n",
              "      <td>3.581679</td>\n",
              "      <td>3.581679</td>\n",
              "      <td>3.581679</td>\n",
              "      <td>3.581679</td>\n",
              "      <td>3.581679</td>\n",
              "      <td>3.581679</td>\n",
              "      <td>3.581679</td>\n",
              "      <td>3.581679</td>\n",
              "      <td>3.581679</td>\n",
              "      <td>3.581679</td>\n",
              "      <td>3.581679</td>\n",
              "      <td>3.581679</td>\n",
              "      <td>5</td>\n",
              "    </tr>\n",
              "    <tr>\n",
              "      <th>1</th>\n",
              "      <td>941866</td>\n",
              "      <td>71</td>\n",
              "      <td>3.581679</td>\n",
              "      <td>3.581679</td>\n",
              "      <td>3.581679</td>\n",
              "      <td>3.581679</td>\n",
              "      <td>3.581679</td>\n",
              "      <td>3.581679</td>\n",
              "      <td>3.581679</td>\n",
              "      <td>3.581679</td>\n",
              "      <td>3.581679</td>\n",
              "      <td>3.581679</td>\n",
              "      <td>3.581679</td>\n",
              "      <td>3.581679</td>\n",
              "      <td>3.581679</td>\n",
              "      <td>4</td>\n",
              "    </tr>\n",
              "    <tr>\n",
              "      <th>2</th>\n",
              "      <td>1737912</td>\n",
              "      <td>71</td>\n",
              "      <td>3.581679</td>\n",
              "      <td>3.581679</td>\n",
              "      <td>3.581679</td>\n",
              "      <td>3.581679</td>\n",
              "      <td>3.581679</td>\n",
              "      <td>3.581679</td>\n",
              "      <td>3.581679</td>\n",
              "      <td>3.581679</td>\n",
              "      <td>3.581679</td>\n",
              "      <td>3.581679</td>\n",
              "      <td>3.581679</td>\n",
              "      <td>3.581679</td>\n",
              "      <td>3.581679</td>\n",
              "      <td>3</td>\n",
              "    </tr>\n",
              "    <tr>\n",
              "      <th>3</th>\n",
              "      <td>1849204</td>\n",
              "      <td>71</td>\n",
              "      <td>3.581679</td>\n",
              "      <td>3.581679</td>\n",
              "      <td>3.581679</td>\n",
              "      <td>3.581679</td>\n",
              "      <td>3.581679</td>\n",
              "      <td>3.581679</td>\n",
              "      <td>3.581679</td>\n",
              "      <td>3.581679</td>\n",
              "      <td>3.581679</td>\n",
              "      <td>3.581679</td>\n",
              "      <td>3.581679</td>\n",
              "      <td>3.581679</td>\n",
              "      <td>3.581679</td>\n",
              "      <td>4</td>\n",
              "    </tr>\n",
              "  </tbody>\n",
              "</table>\n",
              "</div>"
            ],
            "text/plain": [
              "      user  movie      GAvg      sur1  ...      smr5      UAvg      MAvg  rating\n",
              "0   808635     71  3.581679  3.581679  ...  3.581679  3.581679  3.581679       5\n",
              "1   941866     71  3.581679  3.581679  ...  3.581679  3.581679  3.581679       4\n",
              "2  1737912     71  3.581679  3.581679  ...  3.581679  3.581679  3.581679       3\n",
              "3  1849204     71  3.581679  3.581679  ...  3.581679  3.581679  3.581679       4\n",
              "\n",
              "[4 rows x 16 columns]"
            ]
          },
          "metadata": {},
          "execution_count": 72
        }
      ]
    },
    {
      "cell_type": "code",
      "metadata": {
        "colab": {
          "base_uri": "https://localhost:8080/"
        },
        "id": "p-LqJSkCn3rG",
        "outputId": "2aa3817b-5e6a-4fa6-e8ef-03eea28f0654"
      },
      "source": [
        "!pip install surprise"
      ],
      "execution_count": null,
      "outputs": [
        {
          "output_type": "stream",
          "name": "stdout",
          "text": [
            "Collecting surprise\n",
            "  Downloading surprise-0.1-py2.py3-none-any.whl (1.8 kB)\n",
            "Collecting scikit-surprise\n",
            "  Downloading scikit-surprise-1.1.1.tar.gz (11.8 MB)\n",
            "\u001b[K     |████████████████████████████████| 11.8 MB 5.4 MB/s \n",
            "\u001b[?25hRequirement already satisfied: joblib>=0.11 in /usr/local/lib/python3.7/dist-packages (from scikit-surprise->surprise) (1.0.1)\n",
            "Requirement already satisfied: numpy>=1.11.2 in /usr/local/lib/python3.7/dist-packages (from scikit-surprise->surprise) (1.19.5)\n",
            "Requirement already satisfied: scipy>=1.0.0 in /usr/local/lib/python3.7/dist-packages (from scikit-surprise->surprise) (1.4.1)\n",
            "Requirement already satisfied: six>=1.10.0 in /usr/local/lib/python3.7/dist-packages (from scikit-surprise->surprise) (1.15.0)\n",
            "Building wheels for collected packages: scikit-surprise\n",
            "  Building wheel for scikit-surprise (setup.py) ... \u001b[?25l\u001b[?25hdone\n",
            "  Created wheel for scikit-surprise: filename=scikit_surprise-1.1.1-cp37-cp37m-linux_x86_64.whl size=1619431 sha256=9ad0df792ea281cc2d7c1596548be3cc7f969c281a6effbd266ec7cfb7785a5e\n",
            "  Stored in directory: /root/.cache/pip/wheels/76/44/74/b498c42be47b2406bd27994e16c5188e337c657025ab400c1c\n",
            "Successfully built scikit-surprise\n",
            "Installing collected packages: scikit-surprise, surprise\n",
            "Successfully installed scikit-surprise-1.1.1 surprise-0.1\n"
          ]
        }
      ]
    },
    {
      "cell_type": "code",
      "metadata": {
        "id": "EiUWfyZ1iaTu"
      },
      "source": [
        "from surprise import Reader, Dataset\n",
        "reader = Reader(rating_scale=(1,5))\n",
        "train_data = Dataset.load_from_df(reg_train[['user', 'movie', 'rating']], reader)\n",
        "\n",
        "# build the trainset from traindata.., It is of dataset format from surprise library..\n",
        "trainset = train_data.build_full_trainset() \n",
        "testset = list(zip(reg_test_df.user.values, reg_test_df.movie.values, reg_test_df.rating.values))"
      ],
      "execution_count": null,
      "outputs": []
    },
    {
      "cell_type": "code",
      "metadata": {
        "id": "KQpvb3K-nJg1"
      },
      "source": [
        "models_evaluation_train = dict()\n",
        "models_evaluation_test = dict()"
      ],
      "execution_count": null,
      "outputs": []
    },
    {
      "cell_type": "code",
      "metadata": {
        "id": "6h_z36v6xrrE"
      },
      "source": [
        "def get_error_metrics(y_true, y_pred):\n",
        "    rmse = np.sqrt(np.mean([ (y_true[i] - y_pred[i])**2 for i in range(len(y_pred)) ]))\n",
        "    mape = np.mean(np.abs((y_true - y_pred)/y_true)) * 100\n",
        "    return rmse, mape\n",
        "\n",
        "def run_xgboost(algo,  x_train, y_train, x_test, y_test,verbose=True):\n",
        "    train_results = dict()\n",
        "    test_results = dict()\n",
        "\n",
        "    # fit the model\n",
        "    print('Training the model..')\n",
        "    start = datetime.now()\n",
        "    algo.fit(x_train, y_train)\n",
        "    print('Done. Time taken : {}\\n'.format(datetime.now()-start))\n",
        "    print('Done \\n')\n",
        "\n",
        "    # from the trained model, get the predictions....\n",
        "    print('Evaluating the model with TRAIN data...')\n",
        "    start =datetime.now()\n",
        "    y_train_pred = algo.predict(x_train)\n",
        "    # get the rmse and mape of train data...\n",
        "    rmse_train, mape_train = get_error_metrics(y_train.values, y_train_pred)\n",
        "    \n",
        "    # store the results in train_results dictionary..\n",
        "    train_results = {'rmse': rmse_train,\n",
        "                    'mape' : mape_train,\n",
        "                    'predictions' : y_train_pred}\n",
        "\n",
        "    # get the test data predictions and compute rmse and mape\n",
        "    print('Evaluating Test data')\n",
        "    y_test_pred = algo.predict(x_test) \n",
        "    rmse_test, mape_test = get_error_metrics(y_true=y_test.values, y_pred=y_test_pred)\n",
        "    # store them in our test results dictionary.\n",
        "    test_results = {'rmse': rmse_test,\n",
        "                    'mape' : mape_test,\n",
        "                    'predictions':y_test_pred}\n",
        "    if verbose:\n",
        "        print('\\nTEST DATA')\n",
        "        print('-'*30)\n",
        "        print('RMSE : ', rmse_test)\n",
        "        print('MAPE : ', mape_test)\n",
        "        \n",
        "    # return these train and test results...\n",
        "    return train_results, test_results"
      ],
      "execution_count": null,
      "outputs": []
    },
    {
      "cell_type": "code",
      "metadata": {
        "id": "b9B1gLPvxrrG"
      },
      "source": [
        "my_seed = 15\n",
        "random.seed(my_seed)\n",
        "np.random.seed(my_seed)\n",
        "\n",
        "def get_ratings(predictions):\n",
        "    actual = np.array([pred.r_ui for pred in predictions])\n",
        "    pred = np.array([pred.est for pred in predictions])\n",
        "    return actual, pred\n",
        "\n",
        "\n",
        "def get_errors(predictions, print_them=False):\n",
        "    actual, pred = get_ratings(predictions)\n",
        "    rmse = np.sqrt(np.mean((pred - actual)**2))\n",
        "    mape = np.mean(np.abs(pred - actual)/actual)\n",
        "    return rmse, mape*100\n",
        "\n",
        "def run_surprise(algo, trainset, testset, verbose=True): \n",
        "    start = datetime.now()\n",
        "    # dictionaries that stores metrics for train and test..\n",
        "    train = dict()\n",
        "    test = dict()\n",
        "    \n",
        "    # train the algorithm with the trainset\n",
        "    st = datetime.now()\n",
        "    print('Training the model...')\n",
        "    algo.fit(trainset)\n",
        "    print('Done. time taken : {} \\n'.format(datetime.now()-st))\n",
        "    \n",
        "    # ---------------- Evaluating train data--------------------#\n",
        "    st = datetime.now()\n",
        "    print('Evaluating the model with train data..')\n",
        "    # get the train predictions (list of prediction class inside Surprise)\n",
        "    train_preds = algo.test(trainset.build_testset())\n",
        "    # get predicted ratings from the train predictions..\n",
        "    train_actual_ratings, train_pred_ratings = get_ratings(train_preds)\n",
        "    # get ''rmse'' and ''mape'' from the train predictions.\n",
        "    train_rmse, train_mape = get_errors(train_preds)\n",
        "    print('time taken : {}'.format(datetime.now()-st))\n",
        "    \n",
        "    if verbose:\n",
        "        print('-'*15)\n",
        "        print('Train Data')\n",
        "        print('-'*15)\n",
        "        print(\"RMSE : {}\\n\\nMAPE : {}\\n\".format(train_rmse, train_mape))\n",
        "    \n",
        "    #store them in the train dictionary\n",
        "    if verbose:\n",
        "        print('adding train results in the dictionary..')\n",
        "    train['rmse'] = train_rmse\n",
        "    train['mape'] = train_mape\n",
        "    train['predictions'] = train_pred_ratings\n",
        "    \n",
        "    #------------ Evaluating Test data---------------#\n",
        "    st = datetime.now()\n",
        "    print('\\nEvaluating for test data...')\n",
        "    # get the predictions( list of prediction classes) of test data\n",
        "    test_preds = algo.test(testset)\n",
        "    # get the predicted ratings from the list of predictions\n",
        "    test_actual_ratings, test_pred_ratings = get_ratings(test_preds)\n",
        "    # get error metrics from the predicted and actual ratings\n",
        "    test_rmse, test_mape = get_errors(test_preds)\n",
        "    print('time taken : {}'.format(datetime.now()-st))\n",
        "    \n",
        "    if verbose:\n",
        "        print('-'*15)\n",
        "        print('Test Data')\n",
        "        print('-'*15)\n",
        "        print(\"RMSE : {}\\n\\nMAPE : {}\\n\".format(test_rmse, test_mape))\n",
        "    # store them in test dictionary\n",
        "    if verbose:\n",
        "        print('storing the test results in test dictionary...')\n",
        "    test['rmse'] = test_rmse\n",
        "    test['mape'] = test_mape\n",
        "    test['predictions'] = test_pred_ratings\n",
        "    \n",
        "    print('\\n'+'-'*45)\n",
        "    print('Total time taken to run this algorithm :', datetime.now() - start)\n",
        "    \n",
        "    # return two dictionaries train and test\n",
        "    return train, test"
      ],
      "execution_count": null,
      "outputs": []
    },
    {
      "cell_type": "code",
      "metadata": {
        "id": "DoxUdAnFxrrK",
        "colab": {
          "base_uri": "https://localhost:8080/",
          "height": 503
        },
        "outputId": "0f55fe82-52c5-4fcb-c461-5e51e1b9923a"
      },
      "source": [
        "import xgboost as xgb\n",
        "# prepare Train data\n",
        "x_train = reg_train.drop(['user','movie','rating'], axis=1)\n",
        "y_train = reg_train['rating']\n",
        "\n",
        "# Prepare Test data\n",
        "x_test = reg_test_df.drop(['user','movie','rating'], axis=1)\n",
        "y_test = reg_test_df['rating']\n",
        "\n",
        "# initialize Our first XGBoost model...\n",
        "first_xgb = xgb.XGBRegressor(silent=False, n_jobs=-1, random_state=15, n_estimators=100,objective='reg:squarederror')\n",
        "train_results, test_results = run_xgboost(first_xgb, x_train, y_train, x_test, y_test,verbose= True)\n",
        "\n",
        "# store the results in models_evaluations dictionaries\n",
        "models_evaluation_train['first_algo'] = train_results\n",
        "models_evaluation_test['first_algo'] = test_results\n",
        "\n",
        "xgb.plot_importance(first_xgb)\n",
        "plt.show()"
      ],
      "execution_count": null,
      "outputs": [
        {
          "output_type": "stream",
          "name": "stdout",
          "text": [
            "Training the model..\n",
            "Done. Time taken : 0:00:06.069747\n",
            "\n",
            "Done \n",
            "\n",
            "Evaluating the model with TRAIN data...\n",
            "Evaluating Test data\n",
            "\n",
            "TEST DATA\n",
            "------------------------------\n",
            "RMSE :  1.076373581778953\n",
            "MAPE :  34.48223172520999\n"
          ]
        },
        {
          "output_type": "display_data",
          "data": {
            "image/png": "[encoded data removed]",
            "text/plain": [
              "<Figure size 432x288 with 1 Axes>"
            ]
          },
          "metadata": {}
        }
      ]
    },
    {
      "cell_type": "code",
      "metadata": {
        "colab": {
          "base_uri": "https://localhost:8080/"
        },
        "id": "y4iBmgJZotWK",
        "outputId": "d4ac4a02-6e83-4ab0-cec4-a673b7d62454"
      },
      "source": [
        "test_results"
      ],
      "execution_count": null,
      "outputs": [
        {
          "output_type": "execute_result",
          "data": {
            "text/plain": [
              "{'mape': 34.48223172520999,\n",
              " 'predictions': array([3.503703, 3.503703, 3.503703, ..., 3.503703, 3.503703, 3.503703],\n",
              "       dtype=float32),\n",
              " 'rmse': 1.076373581778953}"
            ]
          },
          "metadata": {},
          "execution_count": 33
        }
      ]
    },
    {
      "cell_type": "code",
      "metadata": {
        "colab": {
          "base_uri": "https://localhost:8080/"
        },
        "id": "C2NStMnaouog",
        "outputId": "0b455492-212b-4615-8a6a-c84377c3a446"
      },
      "source": [
        "from surprise import BaselineOnly \n",
        "\n",
        "bsl_options = {'method': 'sgd',\n",
        "               'learning_rate': 0.001\n",
        "               }\n",
        "bsl_algo = BaselineOnly(bsl_options=bsl_options)\n",
        "# run this algorithm.., It will return the train and test results..\n",
        "bsl_train_results, bsl_test_results = run_surprise(bsl_algo, trainset, testset)\n",
        "\n",
        "\n",
        "# Just store these error metrics in our models_evaluation datastructure\n",
        "models_evaluation_train['bsl_algo'] = bsl_train_results \n",
        "models_evaluation_test['bsl_algo'] = bsl_test_results"
      ],
      "execution_count": null,
      "outputs": [
        {
          "output_type": "stream",
          "name": "stdout",
          "text": [
            "Training the model...\n",
            "Estimating biases using sgd...\n",
            "Done. time taken : 0:00:01.465096 \n",
            "\n",
            "Evaluating the model with train data..\n",
            "time taken : 0:00:01.404590\n",
            "---------------\n",
            "Train Data\n",
            "---------------\n",
            "RMSE : 0.9347153928678286\n",
            "\n",
            "MAPE : 29.389572652358183\n",
            "\n",
            "adding train results in the dictionary..\n",
            "\n",
            "Evaluating for test data...\n",
            "time taken : 0:00:00.078704\n",
            "---------------\n",
            "Test Data\n",
            "---------------\n",
            "RMSE : 1.0730330260516174\n",
            "\n",
            "MAPE : 35.04995544572911\n",
            "\n",
            "storing the test results in test dictionary...\n",
            "\n",
            "---------------------------------------------\n",
            "Total time taken to run this algorithm : 0:00:02.949306\n"
          ]
        }
      ]
    },
    {
      "cell_type": "code",
      "metadata": {
        "id": "Wx7MMfq5pyVG"
      },
      "source": [
        "reg_train['bslpr'] = models_evaluation_train['bsl_algo']['predictions']\n",
        "reg_test_df['bslpr']  = models_evaluation_test['bsl_algo']['predictions']"
      ],
      "execution_count": null,
      "outputs": []
    },
    {
      "cell_type": "code",
      "metadata": {
        "colab": {
          "base_uri": "https://localhost:8080/",
          "height": 226
        },
        "id": "rAfUBpnlpzjm",
        "outputId": "1fdf6af5-37f8-45b5-f4de-a4e4c114e3fe"
      },
      "source": [
        "reg_test_df.head()"
      ],
      "execution_count": null,
      "outputs": [
        {
          "output_type": "execute_result",
          "data": {
            "text/html": [
              "<div>\n",
              "<style scoped>\n",
              "    .dataframe tbody tr th:only-of-type {\n",
              "        vertical-align: middle;\n",
              "    }\n",
              "\n",
              "    .dataframe tbody tr th {\n",
              "        vertical-align: top;\n",
              "    }\n",
              "\n",
              "    .dataframe thead th {\n",
              "        text-align: right;\n",
              "    }\n",
              "</style>\n",
              "<table border=\"1\" class=\"dataframe\">\n",
              "  <thead>\n",
              "    <tr style=\"text-align: right;\">\n",
              "      <th></th>\n",
              "      <th>user</th>\n",
              "      <th>movie</th>\n",
              "      <th>GAvg</th>\n",
              "      <th>sur1</th>\n",
              "      <th>sur2</th>\n",
              "      <th>sur3</th>\n",
              "      <th>sur4</th>\n",
              "      <th>sur5</th>\n",
              "      <th>smr1</th>\n",
              "      <th>smr2</th>\n",
              "      <th>smr3</th>\n",
              "      <th>smr4</th>\n",
              "      <th>smr5</th>\n",
              "      <th>UAvg</th>\n",
              "      <th>MAvg</th>\n",
              "      <th>rating</th>\n",
              "      <th>bslpr</th>\n",
              "    </tr>\n",
              "  </thead>\n",
              "  <tbody>\n",
              "    <tr>\n",
              "      <th>0</th>\n",
              "      <td>808635</td>\n",
              "      <td>71</td>\n",
              "      <td>3.581679</td>\n",
              "      <td>3.581679</td>\n",
              "      <td>3.581679</td>\n",
              "      <td>3.581679</td>\n",
              "      <td>3.581679</td>\n",
              "      <td>3.581679</td>\n",
              "      <td>3.581679</td>\n",
              "      <td>3.581679</td>\n",
              "      <td>3.581679</td>\n",
              "      <td>3.581679</td>\n",
              "      <td>3.581679</td>\n",
              "      <td>3.581679</td>\n",
              "      <td>3.581679</td>\n",
              "      <td>5</td>\n",
              "      <td>3.581679</td>\n",
              "    </tr>\n",
              "    <tr>\n",
              "      <th>1</th>\n",
              "      <td>941866</td>\n",
              "      <td>71</td>\n",
              "      <td>3.581679</td>\n",
              "      <td>3.581679</td>\n",
              "      <td>3.581679</td>\n",
              "      <td>3.581679</td>\n",
              "      <td>3.581679</td>\n",
              "      <td>3.581679</td>\n",
              "      <td>3.581679</td>\n",
              "      <td>3.581679</td>\n",
              "      <td>3.581679</td>\n",
              "      <td>3.581679</td>\n",
              "      <td>3.581679</td>\n",
              "      <td>3.581679</td>\n",
              "      <td>3.581679</td>\n",
              "      <td>4</td>\n",
              "      <td>3.581679</td>\n",
              "    </tr>\n",
              "    <tr>\n",
              "      <th>2</th>\n",
              "      <td>1737912</td>\n",
              "      <td>71</td>\n",
              "      <td>3.581679</td>\n",
              "      <td>3.581679</td>\n",
              "      <td>3.581679</td>\n",
              "      <td>3.581679</td>\n",
              "      <td>3.581679</td>\n",
              "      <td>3.581679</td>\n",
              "      <td>3.581679</td>\n",
              "      <td>3.581679</td>\n",
              "      <td>3.581679</td>\n",
              "      <td>3.581679</td>\n",
              "      <td>3.581679</td>\n",
              "      <td>3.581679</td>\n",
              "      <td>3.581679</td>\n",
              "      <td>3</td>\n",
              "      <td>3.581679</td>\n",
              "    </tr>\n",
              "    <tr>\n",
              "      <th>3</th>\n",
              "      <td>1849204</td>\n",
              "      <td>71</td>\n",
              "      <td>3.581679</td>\n",
              "      <td>3.581679</td>\n",
              "      <td>3.581679</td>\n",
              "      <td>3.581679</td>\n",
              "      <td>3.581679</td>\n",
              "      <td>3.581679</td>\n",
              "      <td>3.581679</td>\n",
              "      <td>3.581679</td>\n",
              "      <td>3.581679</td>\n",
              "      <td>3.581679</td>\n",
              "      <td>3.581679</td>\n",
              "      <td>3.581679</td>\n",
              "      <td>3.581679</td>\n",
              "      <td>4</td>\n",
              "      <td>3.581679</td>\n",
              "    </tr>\n",
              "    <tr>\n",
              "      <th>4</th>\n",
              "      <td>28572</td>\n",
              "      <td>111</td>\n",
              "      <td>3.581679</td>\n",
              "      <td>3.581679</td>\n",
              "      <td>3.581679</td>\n",
              "      <td>3.581679</td>\n",
              "      <td>3.581679</td>\n",
              "      <td>3.581679</td>\n",
              "      <td>3.581679</td>\n",
              "      <td>3.581679</td>\n",
              "      <td>3.581679</td>\n",
              "      <td>3.581679</td>\n",
              "      <td>3.581679</td>\n",
              "      <td>3.581679</td>\n",
              "      <td>3.581679</td>\n",
              "      <td>1</td>\n",
              "      <td>3.581679</td>\n",
              "    </tr>\n",
              "  </tbody>\n",
              "</table>\n",
              "</div>"
            ],
            "text/plain": [
              "      user  movie      GAvg      sur1  ...      UAvg      MAvg  rating     bslpr\n",
              "0   808635     71  3.581679  3.581679  ...  3.581679  3.581679       5  3.581679\n",
              "1   941866     71  3.581679  3.581679  ...  3.581679  3.581679       4  3.581679\n",
              "2  1737912     71  3.581679  3.581679  ...  3.581679  3.581679       3  3.581679\n",
              "3  1849204     71  3.581679  3.581679  ...  3.581679  3.581679       4  3.581679\n",
              "4    28572    111  3.581679  3.581679  ...  3.581679  3.581679       1  3.581679\n",
              "\n",
              "[5 rows x 17 columns]"
            ]
          },
          "metadata": {},
          "execution_count": 81
        }
      ]
    },
    {
      "cell_type": "code",
      "metadata": {
        "id": "ssnLOA0x-Vd9"
      },
      "source": [
        ""
      ],
      "execution_count": null,
      "outputs": []
    },
    {
      "cell_type": "code",
      "metadata": {
        "colab": {
          "base_uri": "https://localhost:8080/"
        },
        "id": "tcLTRdwip0ty",
        "outputId": "548dc00e-6153-484b-f7f2-86e07f13f989"
      },
      "source": [
        "from surprise import SVD\n",
        "\n",
        "svd = SVD(n_factors=100, biased=True, random_state=15)\n",
        "svd_train_results, svd_test_results = run_surprise(svd, trainset, testset, verbose=True)\n",
        "\n",
        "# Just store these error metrics in our models_evaluation datastructure\n",
        "models_evaluation_train['svd'] = svd_train_results \n",
        "models_evaluation_test['svd'] = svd_test_results"
      ],
      "execution_count": null,
      "outputs": [
        {
          "output_type": "stream",
          "name": "stdout",
          "text": [
            "Training the model...\n",
            "Done. time taken : 0:00:08.253656 \n",
            "\n",
            "Evaluating the model with train data..\n",
            "time taken : 0:00:01.664260\n",
            "---------------\n",
            "Train Data\n",
            "---------------\n",
            "RMSE : 0.6574721240954099\n",
            "\n",
            "MAPE : 19.704901088660474\n",
            "\n",
            "adding train results in the dictionary..\n",
            "\n",
            "Evaluating for test data...\n",
            "time taken : 0:00:00.073838\n",
            "---------------\n",
            "Test Data\n",
            "---------------\n",
            "RMSE : 1.0726046873826458\n",
            "\n",
            "MAPE : 35.01953535988152\n",
            "\n",
            "storing the test results in test dictionary...\n",
            "\n",
            "---------------------------------------------\n",
            "Total time taken to run this algorithm : 0:00:09.996648\n"
          ]
        }
      ]
    },
    {
      "cell_type": "code",
      "metadata": {
        "colab": {
          "base_uri": "https://localhost:8080/"
        },
        "id": "DTBeN8Q9rUbp",
        "outputId": "1092f201-ded7-4b21-db73-3c7b071a1786"
      },
      "source": [
        "from surprise import SVDpp\n",
        "svdpp = SVDpp(n_factors=50, random_state=15)\n",
        "svdpp_train_results, svdpp_test_results = run_surprise(svdpp, trainset, testset, verbose=True)\n",
        "\n",
        "# Just store these error metrics in our models_evaluation datastructure\n",
        "models_evaluation_train['svdpp'] = svdpp_train_results \n",
        "models_evaluation_test['svdpp'] = svdpp_test_results"
      ],
      "execution_count": null,
      "outputs": [
        {
          "output_type": "stream",
          "name": "stdout",
          "text": [
            "Training the model...\n",
            "Done. time taken : 0:02:07.676461 \n",
            "\n",
            "Evaluating the model with train data..\n",
            "time taken : 0:00:10.138279\n",
            "---------------\n",
            "Train Data\n",
            "---------------\n",
            "RMSE : 0.6032438403305899\n",
            "\n",
            "MAPE : 17.49285063490268\n",
            "\n",
            "adding train results in the dictionary..\n",
            "\n",
            "Evaluating for test data...\n",
            "time taken : 0:00:00.285279\n",
            "---------------\n",
            "Test Data\n",
            "---------------\n",
            "RMSE : 1.0728491944183447\n",
            "\n",
            "MAPE : 35.03817913919887\n",
            "\n",
            "storing the test results in test dictionary...\n",
            "\n",
            "---------------------------------------------\n",
            "Total time taken to run this algorithm : 0:02:18.107174\n"
          ]
        }
      ]
    },
    {
      "cell_type": "code",
      "metadata": {
        "id": "kQCE0OdRrZ-_"
      },
      "source": [
        "reg_train['svd'] = models_evaluation_train['svd']['predictions']\n",
        "reg_train['svdpp'] = models_evaluation_train['svdpp']['predictions']\n",
        "\n",
        "reg_test_df['svd'] = models_evaluation_test['svd']['predictions']\n",
        "reg_test_df['svdpp'] = models_evaluation_test['svdpp']['predictions']"
      ],
      "execution_count": null,
      "outputs": []
    },
    {
      "cell_type": "code",
      "metadata": {
        "colab": {
          "base_uri": "https://localhost:8080/",
          "height": 206
        },
        "id": "USEvGMG4sHnR",
        "outputId": "c5ee43ae-3727-4bc9-b823-3e976a87de1c"
      },
      "source": [
        "reg_train.head()"
      ],
      "execution_count": null,
      "outputs": [
        {
          "output_type": "execute_result",
          "data": {
            "text/html": [
              "<div>\n",
              "<style scoped>\n",
              "    .dataframe tbody tr th:only-of-type {\n",
              "        vertical-align: middle;\n",
              "    }\n",
              "\n",
              "    .dataframe tbody tr th {\n",
              "        vertical-align: top;\n",
              "    }\n",
              "\n",
              "    .dataframe thead th {\n",
              "        text-align: right;\n",
              "    }\n",
              "</style>\n",
              "<table border=\"1\" class=\"dataframe\">\n",
              "  <thead>\n",
              "    <tr style=\"text-align: right;\">\n",
              "      <th></th>\n",
              "      <th>user</th>\n",
              "      <th>movie</th>\n",
              "      <th>GAvg</th>\n",
              "      <th>sur1</th>\n",
              "      <th>sur2</th>\n",
              "      <th>sur3</th>\n",
              "      <th>sur4</th>\n",
              "      <th>sur5</th>\n",
              "      <th>smr1</th>\n",
              "      <th>smr2</th>\n",
              "      <th>smr3</th>\n",
              "      <th>smr4</th>\n",
              "      <th>smr5</th>\n",
              "      <th>UAvg</th>\n",
              "      <th>MAvg</th>\n",
              "      <th>rating</th>\n",
              "      <th>bslpr</th>\n",
              "      <th>svd</th>\n",
              "      <th>svdpp</th>\n",
              "    </tr>\n",
              "  </thead>\n",
              "  <tbody>\n",
              "    <tr>\n",
              "      <th>0</th>\n",
              "      <td>53406</td>\n",
              "      <td>33</td>\n",
              "      <td>3.581679</td>\n",
              "      <td>4.0</td>\n",
              "      <td>5.0</td>\n",
              "      <td>5.0</td>\n",
              "      <td>4.0</td>\n",
              "      <td>1.0</td>\n",
              "      <td>5.0</td>\n",
              "      <td>2.0</td>\n",
              "      <td>5.0</td>\n",
              "      <td>3.0</td>\n",
              "      <td>1.0</td>\n",
              "      <td>3.370370</td>\n",
              "      <td>4.092437</td>\n",
              "      <td>4</td>\n",
              "      <td>3.898982</td>\n",
              "      <td>4.303764</td>\n",
              "      <td>3.621664</td>\n",
              "    </tr>\n",
              "    <tr>\n",
              "      <th>1</th>\n",
              "      <td>99540</td>\n",
              "      <td>33</td>\n",
              "      <td>3.581679</td>\n",
              "      <td>5.0</td>\n",
              "      <td>5.0</td>\n",
              "      <td>5.0</td>\n",
              "      <td>4.0</td>\n",
              "      <td>5.0</td>\n",
              "      <td>3.0</td>\n",
              "      <td>4.0</td>\n",
              "      <td>4.0</td>\n",
              "      <td>3.0</td>\n",
              "      <td>5.0</td>\n",
              "      <td>3.555556</td>\n",
              "      <td>4.092437</td>\n",
              "      <td>3</td>\n",
              "      <td>3.371403</td>\n",
              "      <td>3.278967</td>\n",
              "      <td>3.538247</td>\n",
              "    </tr>\n",
              "    <tr>\n",
              "      <th>2</th>\n",
              "      <td>99865</td>\n",
              "      <td>33</td>\n",
              "      <td>3.581679</td>\n",
              "      <td>5.0</td>\n",
              "      <td>5.0</td>\n",
              "      <td>4.0</td>\n",
              "      <td>5.0</td>\n",
              "      <td>3.0</td>\n",
              "      <td>5.0</td>\n",
              "      <td>4.0</td>\n",
              "      <td>4.0</td>\n",
              "      <td>5.0</td>\n",
              "      <td>4.0</td>\n",
              "      <td>3.714286</td>\n",
              "      <td>4.092437</td>\n",
              "      <td>5</td>\n",
              "      <td>3.323708</td>\n",
              "      <td>3.385723</td>\n",
              "      <td>2.879361</td>\n",
              "    </tr>\n",
              "    <tr>\n",
              "      <th>3</th>\n",
              "      <td>101620</td>\n",
              "      <td>33</td>\n",
              "      <td>3.581679</td>\n",
              "      <td>2.0</td>\n",
              "      <td>3.0</td>\n",
              "      <td>5.0</td>\n",
              "      <td>5.0</td>\n",
              "      <td>4.0</td>\n",
              "      <td>4.0</td>\n",
              "      <td>3.0</td>\n",
              "      <td>3.0</td>\n",
              "      <td>4.0</td>\n",
              "      <td>5.0</td>\n",
              "      <td>3.584416</td>\n",
              "      <td>4.092437</td>\n",
              "      <td>5</td>\n",
              "      <td>3.378411</td>\n",
              "      <td>2.944656</td>\n",
              "      <td>3.091422</td>\n",
              "    </tr>\n",
              "    <tr>\n",
              "      <th>4</th>\n",
              "      <td>112974</td>\n",
              "      <td>33</td>\n",
              "      <td>3.581679</td>\n",
              "      <td>5.0</td>\n",
              "      <td>5.0</td>\n",
              "      <td>5.0</td>\n",
              "      <td>5.0</td>\n",
              "      <td>5.0</td>\n",
              "      <td>3.0</td>\n",
              "      <td>5.0</td>\n",
              "      <td>5.0</td>\n",
              "      <td>5.0</td>\n",
              "      <td>3.0</td>\n",
              "      <td>3.750000</td>\n",
              "      <td>4.092437</td>\n",
              "      <td>5</td>\n",
              "      <td>3.691637</td>\n",
              "      <td>3.456119</td>\n",
              "      <td>3.394619</td>\n",
              "    </tr>\n",
              "  </tbody>\n",
              "</table>\n",
              "</div>"
            ],
            "text/plain": [
              "     user  movie      GAvg  sur1  ...  rating     bslpr       svd     svdpp\n",
              "0   53406     33  3.581679   4.0  ...       4  3.898982  4.303764  3.621664\n",
              "1   99540     33  3.581679   5.0  ...       3  3.371403  3.278967  3.538247\n",
              "2   99865     33  3.581679   5.0  ...       5  3.323708  3.385723  2.879361\n",
              "3  101620     33  3.581679   2.0  ...       5  3.378411  2.944656  3.091422\n",
              "4  112974     33  3.581679   5.0  ...       5  3.691637  3.456119  3.394619\n",
              "\n",
              "[5 rows x 19 columns]"
            ]
          },
          "metadata": {},
          "execution_count": 190
        }
      ]
    },
    {
      "cell_type": "code",
      "metadata": {
        "id": "giLbQZa2rlXc"
      },
      "source": [
        "x_train = reg_train.drop(['user', 'movie', 'rating'], axis=1)\n",
        "y_train = reg_train['rating']\n",
        "\n",
        "# prepare test data\n",
        "x_test = reg_test_df.drop(['user', 'movie', 'rating'], axis=1)\n",
        "y_test = reg_test_df['rating']\n",
        "\n",
        "xgb_final = xgb.XGBRegressor(n_jobs=-1, random_state=15,objective='reg:squarederror')\n",
        "train_results, test_results = run_xgboost(xgb_final, x_train, y_train, x_test, y_test)\n",
        "\n",
        "# store the results in models_evaluations dictionaries\n",
        "models_evaluation_train['xgb_final'] = train_results\n",
        "models_evaluation_test['xgb_final'] = test_results\n",
        "\n",
        "\n",
        "xgb.plot_importance(xgb_final)\n",
        "plt.show()"
      ],
      "execution_count": null,
      "outputs": []
    },
    {
      "cell_type": "code",
      "metadata": {
        "id": "lnuQGLb2tyMu",
        "colab": {
          "base_uri": "https://localhost:8080/"
        },
        "outputId": "ba2fd22e-129c-4fca-9f4f-83aa9bbaa560"
      },
      "source": [
        "x_train = reg_train.drop(['user', 'movie', 'rating'], axis=1)\n",
        "y_train = reg_train['rating']\n",
        "\n",
        "# prepare test data\n",
        "x_test = reg_test_df.drop(['user', 'movie', 'rating'], axis=1)\n",
        "y_test = reg_test_df['rating']\n",
        "\n",
        "xgb_final = xgb.XGBRegressor(n_jobs=-1, random_state=15,objective='reg:squarederror')\n",
        "xgb_final.fit(x_train, y_train, eval_metric = 'rmse')\n"
      ],
      "execution_count": null,
      "outputs": [
        {
          "output_type": "execute_result",
          "data": {
            "text/plain": [
              "XGBRegressor(base_score=0.5, booster='gbtree', colsample_bylevel=1,\n",
              "             colsample_bynode=1, colsample_bytree=1, gamma=0,\n",
              "             importance_type='gain', learning_rate=0.1, max_delta_step=0,\n",
              "             max_depth=3, min_child_weight=1, missing=None, n_estimators=100,\n",
              "             n_jobs=-1, nthread=None, objective='reg:squarederror',\n",
              "             random_state=15, reg_alpha=0, reg_lambda=1, scale_pos_weight=1,\n",
              "             seed=None, silent=None, subsample=1, verbosity=1)"
            ]
          },
          "metadata": {},
          "execution_count": 101
        }
      ]
    },
    {
      "cell_type": "code",
      "metadata": {
        "colab": {
          "base_uri": "https://localhost:8080/"
        },
        "id": "g4ubdWsbtn8U",
        "outputId": "7d9a0fc5-ff97-479e-d9fb-704d4167f493"
      },
      "source": [
        "from sklearn.ensemble import RandomForestRegressor\n",
        "clf = RandomForestRegressor(100,max_depth=3,n_jobs=-1)\n",
        "train_results, test_results = run_xgboost(clf, x_train, y_train, x_test, y_test,verbose= True)"
      ],
      "execution_count": null,
      "outputs": [
        {
          "output_type": "stream",
          "name": "stdout",
          "text": [
            "Training the model..\n",
            "Done. Time taken : 0:00:19.261492\n",
            "\n",
            "Done \n",
            "\n",
            "Evaluating the model with TRAIN data...\n",
            "Evaluating Test data\n",
            "\n",
            "TEST DATA\n",
            "------------------------------\n",
            "RMSE :  1.1017859728708188\n",
            "MAPE :  33.35203338798235\n"
          ]
        }
      ]
    },
    {
      "cell_type": "code",
      "metadata": {
        "id": "RvxLnoZCuZ5d"
      },
      "source": [
        "y_train_pred = clf.predict(x_train)"
      ],
      "execution_count": null,
      "outputs": []
    },
    {
      "cell_type": "code",
      "metadata": {
        "id": "jHcmmbIy9tMS"
      },
      "source": [
        "# Saving all 4 models\n",
        "\n",
        "filename = '/content/drive/MyDrive/netflix_assignment/baseline_model.sav'\n",
        "pickle.dump(bsl_algo, open(filename, 'wb'))\n",
        "\n",
        "filename = '/content/drive/MyDrive/netflix_assignment/svd_model.sav'\n",
        "pickle.dump(svd, open(filename, 'wb'))\n",
        "\n",
        "filename = '/content/drive/MyDrive/netflix_assignment/svdpp_model.sav'\n",
        "pickle.dump(svdpp, open(filename, 'wb'))\n",
        "\n",
        "filename = '/content/drive/MyDrive/netflix_assignment/xgb_model.sav'\n",
        "pickle.dump(xgb_final, open(filename, 'wb'))\n",
        "\n",
        "filename = '/content/drive/MyDrive/netflix_assignment/random_forest_model.sav'\n",
        "pickle.dump(clf, open(filename, 'wb'))"
      ],
      "execution_count": null,
      "outputs": []
    },
    {
      "cell_type": "code",
      "metadata": {
        "id": "thM-Nbc0n5z1"
      },
      "source": [
        ""
      ],
      "execution_count": null,
      "outputs": []
    }
  ]
}